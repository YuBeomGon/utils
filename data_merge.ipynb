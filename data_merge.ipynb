{
 "cells": [
  {
   "cell_type": "code",
   "execution_count": 141,
   "id": "e2924975-2f5a-4df2-a589-29acdb85ac45",
   "metadata": {},
   "outputs": [],
   "source": [
    "import argparse\n",
    "import subprocess\n",
    "import torch\n",
    "import torchvision\n",
    "import os\n",
    "import torch.optim\n",
    "import tqdm\n",
    "# import apex.amp as amp\n",
    "import time\n",
    "import json\n",
    "import pprint\n",
    "import torch.nn.functional as F\n"
   ]
  },
  {
   "cell_type": "code",
   "execution_count": 142,
   "id": "a64bce8a-d50c-4474-87cd-e0f4b3b08345",
   "metadata": {},
   "outputs": [
    {
     "name": "stdout",
     "output_type": "stream",
     "text": [
      "dict_keys(['info', 'images', 'annotations', 'licenses', 'categories'])\n",
      "person\n"
     ]
    }
   ],
   "source": [
    "annotations_file = 'inter/annotations/naju_train_update.json'\n",
    "category_name = 'person'\n",
    "with open(annotations_file, 'r') as f:\n",
    "    data = json.load(f)\n",
    "    print(data.keys())\n",
    "    for c in data['categories'] :\n",
    "        print(c['name'])\n",
    "\n",
    "    cat = [c for c in data['categories']][0]"
   ]
  },
  {
   "cell_type": "code",
   "execution_count": null,
   "id": "ca1eb40d-e565-43d1-ba1d-0e216fc113c5",
   "metadata": {},
   "outputs": [],
   "source": []
  },
  {
   "cell_type": "code",
   "execution_count": null,
   "id": "7d541c33-eefa-4428-89ea-5201d4fe17b4",
   "metadata": {},
   "outputs": [],
   "source": []
  },
  {
   "cell_type": "code",
   "execution_count": 5,
   "id": "7c030683-b347-4dc3-8670-2227c4f33e55",
   "metadata": {},
   "outputs": [],
   "source": [
    "from coco_assistant import COCO_Assistant"
   ]
  },
  {
   "cell_type": "code",
   "execution_count": 6,
   "id": "77ba7107-4139-4071-85b1-edd7d5a7e400",
   "metadata": {},
   "outputs": [
    {
     "data": {
      "text/plain": [
       "'/home/beomgon/dataset'"
      ]
     },
     "execution_count": 6,
     "metadata": {},
     "output_type": "execute_result"
    }
   ],
   "source": [
    "os.getcwd()"
   ]
  },
  {
   "cell_type": "code",
   "execution_count": 12,
   "id": "c5bc053d-ffe0-4671-9644-cde96ec9987f",
   "metadata": {},
   "outputs": [
    {
     "data": {
      "text/plain": [
       "'/home/beomgon/dataset/coco_inter/images'"
      ]
     },
     "execution_count": 12,
     "metadata": {},
     "output_type": "execute_result"
    }
   ],
   "source": [
    "img_dir = os.path.join('/home/beomgon/dataset/coco_inter', 'images')\n",
    "ann_dir = os.path.join('/home/beomgon/dataset/coco_inter', 'annotations')\n",
    "img_dir"
   ]
  },
  {
   "cell_type": "code",
   "execution_count": 13,
   "id": "cc6c8ce4-63cc-4787-a129-2d61ff2bd5c8",
   "metadata": {},
   "outputs": [
    {
     "name": "stdout",
     "output_type": "stream",
     "text": [
      "loading annotations into memory...\n",
      "Done (t=4.69s)\n",
      "creating index...\n",
      "index created!\n",
      "loading annotations into memory...\n",
      "Done (t=0.17s)\n",
      "creating index...\n",
      "index created!\n"
     ]
    }
   ],
   "source": [
    "cas = COCO_Assistant(img_dir, ann_dir)"
   ]
  },
  {
   "cell_type": "code",
   "execution_count": null,
   "id": "6c9e56c7-d46b-426f-b65b-918aafd33275",
   "metadata": {},
   "outputs": [
    {
     "name": "stdout",
     "output_type": "stream",
     "text": [
      "Merging image dirs\n"
     ]
    },
    {
     "name": "stderr",
     "output_type": "stream",
     "text": [
      "  0%|                                                                          | 0/2 [00:00<?, ?it/s]"
     ]
    }
   ],
   "source": [
    "cas.merge()"
   ]
  },
  {
   "cell_type": "code",
   "execution_count": null,
   "id": "2edcb2af-0900-4120-ab39-3dc38c8745e3",
   "metadata": {},
   "outputs": [],
   "source": []
  },
  {
   "cell_type": "code",
   "execution_count": 170,
   "id": "609f023b-2b2d-4988-a70a-da5e0d80e416",
   "metadata": {},
   "outputs": [
    {
     "name": "stdout",
     "output_type": "stream",
     "text": [
      "dict_keys(['info', 'images', 'annotations', 'licenses', 'categories'])\n",
      "person\n"
     ]
    }
   ],
   "source": [
    "annotations_file = 'inter/annotations/naju_train_update.json'\n",
    "category_name = 'person'\n",
    "with open(annotations_file, 'r') as f:\n",
    "    data = json.load(f)\n",
    "    print(data.keys())\n",
    "    for c in data['categories'] :\n",
    "        print(c['name'])\n",
    "\n",
    "    cat = [c for c in data['categories']][0]"
   ]
  },
  {
   "cell_type": "code",
   "execution_count": 171,
   "id": "45e0083f-ecea-488f-85e2-5da56e56d14c",
   "metadata": {},
   "outputs": [
    {
     "data": {
      "text/plain": [
       "{'id': 0,\n",
       " 'width': 848,\n",
       " 'height': 480,\n",
       " 'file_name': 'MANY01_4_5_86.jpg',\n",
       " 'license': 1,\n",
       " 'flickr_url': '',\n",
       " 'coco_url': '',\n",
       " 'date_captured': ''}"
      ]
     },
     "execution_count": 171,
     "metadata": {},
     "output_type": "execute_result"
    }
   ],
   "source": [
    "data['images'][0]"
   ]
  },
  {
   "cell_type": "code",
   "execution_count": 172,
   "id": "b8b49b05-3d5e-4776-94fb-cdbcc2761313",
   "metadata": {},
   "outputs": [
    {
     "data": {
      "text/plain": [
       "{'id': 0,\n",
       " 'image_id': 0,\n",
       " 'category_id': 1,\n",
       " 'segmentation': [],\n",
       " 'area': 30780,\n",
       " 'bbox': [656, 129, 190, 162],\n",
       " 'iscrowd': 0,\n",
       " 'keypoints': [0,\n",
       "  0,\n",
       "  0,\n",
       "  0,\n",
       "  0,\n",
       "  0,\n",
       "  0,\n",
       "  0,\n",
       "  0,\n",
       "  0,\n",
       "  0,\n",
       "  0,\n",
       "  843,\n",
       "  161,\n",
       "  2,\n",
       "  790,\n",
       "  171,\n",
       "  2,\n",
       "  756,\n",
       "  167,\n",
       "  2],\n",
       " 'num_keypoints': 3}"
      ]
     },
     "execution_count": 172,
     "metadata": {},
     "output_type": "execute_result"
    }
   ],
   "source": [
    "data['annotations'][0]"
   ]
  },
  {
   "cell_type": "code",
   "execution_count": 173,
   "id": "b08e61c4-fd39-4e99-b51c-64b07acefae2",
   "metadata": {},
   "outputs": [],
   "source": [
    "train_image_list = []\n",
    "for image in data['images'] :\n",
    "    if image['id'] % 20 == 0 :\n",
    "        train_image_list.append(image)\n",
    "        \n",
    "train_anno_list = []\n",
    "for anno in data['annotations'] :\n",
    "    if anno['image_id'] % 20 == 0 :\n",
    "        train_anno_list.append(anno)"
   ]
  },
  {
   "cell_type": "code",
   "execution_count": 174,
   "id": "7b9b3c26-3c39-4ee4-a5eb-00b363715458",
   "metadata": {},
   "outputs": [],
   "source": [
    "# (train_anno_list)[:2]"
   ]
  },
  {
   "cell_type": "code",
   "execution_count": 175,
   "id": "765ae721-67a0-489d-8e83-9f70f03d8c97",
   "metadata": {},
   "outputs": [
    {
     "data": {
      "text/plain": [
       "5119"
      ]
     },
     "execution_count": 175,
     "metadata": {},
     "output_type": "execute_result"
    }
   ],
   "source": [
    "len(train_image_list)"
   ]
  },
  {
   "cell_type": "code",
   "execution_count": 176,
   "id": "1e1e594f-d9f2-49cb-ae48-b26ba0f2ae58",
   "metadata": {},
   "outputs": [],
   "source": [
    "for i, image in enumerate(train_image_list) :\n",
    "    # print(i)\n",
    "    train_image_list[i]['id'] = int(image['id'] / 20)\n",
    "    \n",
    "for i, anno in enumerate(train_anno_list) :\n",
    "    # print(i)\n",
    "    train_anno_list[i]['image_id'] = int(anno['image_id'] / 20)    \n",
    "\n",
    "for i, anno in enumerate(train_anno_list) :\n",
    "    # print(i)\n",
    "    train_anno_list[i]['id'] = i  "
   ]
  },
  {
   "cell_type": "code",
   "execution_count": 177,
   "id": "924534a2-e108-4e97-95dc-02e36fb460d5",
   "metadata": {},
   "outputs": [
    {
     "data": {
      "text/plain": [
       "10491"
      ]
     },
     "execution_count": 177,
     "metadata": {},
     "output_type": "execute_result"
    }
   ],
   "source": [
    "len(train_anno_list)"
   ]
  },
  {
   "cell_type": "code",
   "execution_count": 178,
   "id": "00f452b6-fdf1-460d-abd0-d105de61e718",
   "metadata": {},
   "outputs": [],
   "source": [
    "data['images'] = train_image_list\n",
    "data['annotations'] = train_anno_list"
   ]
  },
  {
   "cell_type": "code",
   "execution_count": 179,
   "id": "583b114b-141c-49cf-a1de-e822bdeec778",
   "metadata": {},
   "outputs": [
    {
     "data": {
      "text/plain": [
       "{'id': 5118,\n",
       " 'width': 848,\n",
       " 'height': 480,\n",
       " 'file_name': '2205269_8_180.jpg',\n",
       " 'license': 1,\n",
       " 'flickr_url': '',\n",
       " 'coco_url': '',\n",
       " 'date_captured': ''}"
      ]
     },
     "execution_count": 179,
     "metadata": {},
     "output_type": "execute_result"
    }
   ],
   "source": [
    "data['images'][-1]"
   ]
  },
  {
   "cell_type": "code",
   "execution_count": 180,
   "id": "39640c58-465f-42a1-ab7f-a0b3a8a9b8f1",
   "metadata": {},
   "outputs": [
    {
     "data": {
      "text/plain": [
       "{'id': 10490,\n",
       " 'image_id': 5118,\n",
       " 'category_id': 1,\n",
       " 'segmentation': [],\n",
       " 'area': 29295,\n",
       " 'bbox': [138, 2, 189, 155],\n",
       " 'iscrowd': 1,\n",
       " 'keypoints': [171,\n",
       "  81,\n",
       "  2,\n",
       "  177,\n",
       "  40,\n",
       "  2,\n",
       "  196,\n",
       "  5,\n",
       "  2,\n",
       "  177,\n",
       "  5,\n",
       "  2,\n",
       "  266,\n",
       "  3,\n",
       "  2,\n",
       "  305,\n",
       "  17,\n",
       "  2,\n",
       "  296,\n",
       "  59,\n",
       "  2],\n",
       " 'num_keypoints': 7}"
      ]
     },
     "execution_count": 180,
     "metadata": {},
     "output_type": "execute_result"
    }
   ],
   "source": [
    "data['annotations'][-1]"
   ]
  },
  {
   "cell_type": "code",
   "execution_count": 181,
   "id": "fe5f91a8-277b-4957-a93c-8a1b0a47b6d1",
   "metadata": {},
   "outputs": [
    {
     "name": "stdout",
     "output_type": "stream",
     "text": [
      "5119\n",
      "10491\n"
     ]
    }
   ],
   "source": [
    "print(len(data['images']))\n",
    "print(len(data['annotations']))"
   ]
  },
  {
   "cell_type": "code",
   "execution_count": 182,
   "id": "a2ca0471-e0db-464d-bbf7-8b1e0a7901fb",
   "metadata": {},
   "outputs": [],
   "source": [
    "# file_name_list = []\n",
    "# for image in data['images'] :\n",
    "#     file_name_list.append(image['file_name'])\n",
    "    "
   ]
  },
  {
   "cell_type": "code",
   "execution_count": 115,
   "id": "a7c1f3ee-63ae-4de4-87ea-57bdddaba50f",
   "metadata": {},
   "outputs": [
    {
     "ename": "FileNotFoundError",
     "evalue": "[Errno 2] No such file or directory: '/home/beomgon/dataset/inter/images/2205268_6_105.jpg'",
     "output_type": "error",
     "traceback": [
      "\u001b[0;31m---------------------------------------------------------------------------\u001b[0m",
      "\u001b[0;31mFileNotFoundError\u001b[0m                         Traceback (most recent call last)",
      "Cell \u001b[0;32mIn [115], line 6\u001b[0m\n\u001b[1;32m      4\u001b[0m src \u001b[38;5;241m=\u001b[39m \u001b[38;5;124m'\u001b[39m\u001b[38;5;124m/home/beomgon/dataset/inter/images/\u001b[39m\u001b[38;5;124m'\u001b[39m \u001b[38;5;241m+\u001b[39m file\n\u001b[1;32m      5\u001b[0m dst \u001b[38;5;241m=\u001b[39m \u001b[38;5;124m'\u001b[39m\u001b[38;5;124m/home/beomgon/dataset/reduced_inter/images/train/\u001b[39m\u001b[38;5;124m'\u001b[39m \u001b[38;5;241m+\u001b[39m file\n\u001b[0;32m----> 6\u001b[0m shutil\u001b[38;5;241m.\u001b[39mcopyfile(src, dst)\n",
      "File \u001b[0;32m~/anaconda3/envs/pytorch/lib/python3.8/shutil.py:264\u001b[0m, in \u001b[0;36mcopyfile\u001b[0;34m(src, dst, follow_symlinks)\u001b[0m\n\u001b[1;32m    262\u001b[0m     os\u001b[38;5;241m.\u001b[39msymlink(os\u001b[38;5;241m.\u001b[39mreadlink(src), dst)\n\u001b[1;32m    263\u001b[0m \u001b[38;5;28;01melse\u001b[39;00m:\n\u001b[0;32m--> 264\u001b[0m     \u001b[38;5;28;01mwith\u001b[39;00m \u001b[38;5;28;43mopen\u001b[39;49m\u001b[43m(\u001b[49m\u001b[43msrc\u001b[49m\u001b[43m,\u001b[49m\u001b[43m \u001b[49m\u001b[38;5;124;43m'\u001b[39;49m\u001b[38;5;124;43mrb\u001b[39;49m\u001b[38;5;124;43m'\u001b[39;49m\u001b[43m)\u001b[49m \u001b[38;5;28;01mas\u001b[39;00m fsrc, \u001b[38;5;28mopen\u001b[39m(dst, \u001b[38;5;124m'\u001b[39m\u001b[38;5;124mwb\u001b[39m\u001b[38;5;124m'\u001b[39m) \u001b[38;5;28;01mas\u001b[39;00m fdst:\n\u001b[1;32m    265\u001b[0m         \u001b[38;5;66;03m# macOS\u001b[39;00m\n\u001b[1;32m    266\u001b[0m         \u001b[38;5;28;01mif\u001b[39;00m _HAS_FCOPYFILE:\n\u001b[1;32m    267\u001b[0m             \u001b[38;5;28;01mtry\u001b[39;00m:\n",
      "\u001b[0;31mFileNotFoundError\u001b[0m: [Errno 2] No such file or directory: '/home/beomgon/dataset/inter/images/2205268_6_105.jpg'"
     ]
    }
   ],
   "source": [
    "# import shutil\n",
    "\n",
    "# for file in file_name_list :\n",
    "#     src = '/home/beomgon/dataset/inter/images/' + file\n",
    "#     dst = '/home/beomgon/dataset/reduced_inter/images/train/' + file\n",
    "#     shutil.copyfile(src, dst)\n",
    "    "
   ]
  },
  {
   "cell_type": "code",
   "execution_count": null,
   "id": "faec84af-3c38-487b-b870-db5485477fd6",
   "metadata": {},
   "outputs": [],
   "source": []
  },
  {
   "cell_type": "code",
   "execution_count": null,
   "id": "00c45469-a21b-4e1f-b9be-28b3b6dd8a30",
   "metadata": {},
   "outputs": [],
   "source": []
  },
  {
   "cell_type": "code",
   "execution_count": null,
   "id": "f2d8f892-1a4c-4323-8c9d-3fae2f0c68a8",
   "metadata": {},
   "outputs": [],
   "source": []
  },
  {
   "cell_type": "code",
   "execution_count": 1,
   "id": "acb86dc6-07f3-400b-b5d9-71264397b9c5",
   "metadata": {},
   "outputs": [],
   "source": [
    "import shutil\n",
    "import argparse\n",
    "import subprocess\n",
    "import os\n",
    "import tqdm\n",
    "# import apex.amp as amp\n",
    "import time\n",
    "import json\n",
    "import pprint\n",
    "\n",
    "class ReducedDataAnno() :\n",
    "    def __init__(self, annfile, src_dir, dst_dir, new_anno, dev=20):\n",
    "        self.annfile = annfile\n",
    "        self.dev = dev\n",
    "        self.category_name = 'person'\n",
    "        self.image_list = []\n",
    "        self.anno_list = []\n",
    "        self.file_name_list = []\n",
    "        \n",
    "        self.src_dir = src_dir\n",
    "        self.dst_dir = dst_dir\n",
    "        self.new_anno = new_anno\n",
    "\n",
    "        with open(self.annfile, 'r') as f:\n",
    "            self.data = json.load(f)\n",
    "            print(self.data.keys())\n",
    "            for c in self.data['categories'] :\n",
    "                print(c['name'])\n",
    "\n",
    "            cat = [c for c in self.data['categories']][0]   \n",
    "            \n",
    "    def get_anno(self) :\n",
    "        \n",
    "        for image in self.data['images'] :\n",
    "            if image['id'] % self.dev == 0 :\n",
    "                self.image_list.append(image)\n",
    "\n",
    "        for anno in self.data['annotations'] :\n",
    "            if anno['id'] % self.dev == 0 :\n",
    "                self.anno_list.append(anno)    \n",
    "\n",
    "        for i, image in enumerate(self.image_list) :\n",
    "            # print(i)\n",
    "            self.image_list[i]['id'] = int(image['id'] / self.dev)\n",
    "\n",
    "        for i, anno in enumerate(self.anno_list) :\n",
    "            # print(i)\n",
    "            self.anno_list[i]['image_id'] = int(anno['image_id'] / self.dev)    \n",
    "\n",
    "        for i, anno in enumerate(self.anno_list) :\n",
    "            # print(i)\n",
    "            self.anno_list[i]['id'] = i              \n",
    "\n",
    "        self.data['images'] = self.image_list\n",
    "        self.data['annotations'] = self.anno_list   \n",
    "        \n",
    "        with open(self.new_anno, 'w') as outfile:\n",
    "            json.dump(self.data, outfile)        \n",
    "        \n",
    "        \n",
    "    def copy_files(self) :\n",
    "\n",
    "        for image in self.data['images'] :\n",
    "            self.file_name_list.append(image['file_name'])    \n",
    "            \n",
    "        for file in self.file_name_list :\n",
    "            src = self.src_dir + file\n",
    "            dst = self.dst_dir + file\n",
    "            shutil.copyfile(src, dst)      \n",
    "            \n",
    "    def __call__(self):\n",
    "        self.get_anno()\n",
    "        self.copy_files()\n",
    "        \n",
    "\n",
    "        \n",
    "        \n",
    "        "
   ]
  },
  {
   "cell_type": "code",
   "execution_count": 3,
   "id": "11ab4c2d-d210-4dac-a2dd-55421aeee761",
   "metadata": {},
   "outputs": [
    {
     "name": "stdout",
     "output_type": "stream",
     "text": [
      "dict_keys(['info', 'images', 'annotations', 'licenses', 'categories'])\n",
      "person\n"
     ]
    }
   ],
   "source": [
    "# naju train\n",
    "annfile = 'inter/annotations/naju_train_update.json'\n",
    "src_dir = '/home/beomgon/dataset/inter/images/'\n",
    "dst_dir = '/home/beomgon/dataset/reduced_inter/naju_images/train/'\n",
    "new_anno = '/home/beomgon/dataset/reduced_inter/annotations/naju_train.json'\n",
    "reduced_train = ReducedDataAnno(annfile, src_dir, dst_dir, new_anno)\n",
    "reduced_train()"
   ]
  },
  {
   "cell_type": "code",
   "execution_count": 4,
   "id": "8bff8c43-a1f5-46ef-9818-8f26e8a62752",
   "metadata": {},
   "outputs": [
    {
     "name": "stdout",
     "output_type": "stream",
     "text": [
      "dict_keys(['info', 'images', 'annotations', 'licenses', 'categories'])\n",
      "person\n"
     ]
    }
   ],
   "source": [
    "# naju test\n",
    "annfile = 'inter/annotations/naju_test_update.json'\n",
    "src_dir = '/home/beomgon/dataset/inter/images/'\n",
    "dst_dir = '/home/beomgon/dataset/reduced_inter/naju_images/val/'\n",
    "new_anno = '/home/beomgon/dataset/reduced_inter/annotations/naju_val.json'\n",
    "reduced_train = ReducedDataAnno(annfile, src_dir, dst_dir, new_anno)\n",
    "reduced_train()\n"
   ]
  },
  {
   "cell_type": "code",
   "execution_count": 5,
   "id": "6849ce20-b2d4-4161-a0aa-0f10f32d0570",
   "metadata": {},
   "outputs": [
    {
     "name": "stdout",
     "output_type": "stream",
     "text": [
      "dict_keys(['info', 'images', 'annotations', 'licenses', 'categories'])\n",
      "InterMinds 7 Point.\n"
     ]
    }
   ],
   "source": [
    "# showroom train\n",
    "annfile = 'inter/annotations/showroom_0825_train.json'\n",
    "src_dir = '/home/beomgon/dataset/inter/images/'\n",
    "dst_dir = '/home/beomgon/dataset/reduced_inter/showroom_images/train/'\n",
    "new_anno = '/home/beomgon/dataset/reduced_inter/annotations/showroom_train.json'\n",
    "reduced_train = ReducedDataAnno(annfile, src_dir, dst_dir, new_anno)\n",
    "reduced_train()"
   ]
  },
  {
   "cell_type": "code",
   "execution_count": 6,
   "id": "5847d251-5211-4b4d-b70c-c1c03eb52e04",
   "metadata": {},
   "outputs": [
    {
     "name": "stdout",
     "output_type": "stream",
     "text": [
      "dict_keys(['info', 'images', 'annotations', 'licenses', 'categories'])\n",
      "InterMinds 7 Point.\n"
     ]
    }
   ],
   "source": [
    "# showroom test\n",
    "annfile = 'inter/annotations/showroom_0825_test.json'\n",
    "src_dir = '/home/beomgon/dataset/inter/images/'\n",
    "dst_dir = '/home/beomgon/dataset/reduced_inter/showroom_images/val/'\n",
    "new_anno = '/home/beomgon/dataset/reduced_inter/annotations/showroom_val.json'\n",
    "reduced_train = ReducedDataAnno(annfile, src_dir, dst_dir, new_anno)\n",
    "reduced_train()"
   ]
  },
  {
   "cell_type": "code",
   "execution_count": null,
   "id": "5de87a48-9647-4fe1-8a66-1b29405b52bd",
   "metadata": {},
   "outputs": [],
   "source": []
  },
  {
   "cell_type": "code",
   "execution_count": 8,
   "id": "daa513d6-69bd-48ba-a586-7c0473d4b651",
   "metadata": {},
   "outputs": [],
   "source": [
    "from coco_assistant import COCO_Assistant"
   ]
  },
  {
   "cell_type": "code",
   "execution_count": 9,
   "id": "a4e5f33a-ffce-4faf-9b24-f5e9de4e7157",
   "metadata": {},
   "outputs": [
    {
     "name": "stdout",
     "output_type": "stream",
     "text": [
      "loading annotations into memory...\n",
      "Done (t=0.09s)\n",
      "creating index...\n",
      "index created!\n",
      "loading annotations into memory...\n",
      "Done (t=1.09s)\n",
      "creating index...\n",
      "index created!\n",
      "loading annotations into memory...\n",
      "Done (t=0.02s)\n",
      "creating index...\n",
      "index created!\n",
      "Merging image dirs\n"
     ]
    },
    {
     "name": "stderr",
     "output_type": "stream",
     "text": [
      "100%|██████████████████████████████████████████████████████████████████| 3/3 [01:04<00:00, 21.50s/it]\n"
     ]
    },
    {
     "name": "stdout",
     "output_type": "stream",
     "text": [
      "Merging annotations\n"
     ]
    },
    {
     "name": "stderr",
     "output_type": "stream",
     "text": [
      "100%|██████████████████████████████████████████████████████████████████| 3/3 [00:01<00:00,  2.54it/s]\n"
     ]
    }
   ],
   "source": [
    "# merge train data\n",
    "train_dir = '/home/beomgon/dataset/total/train/'\n",
    "train_img_dir = train_dir + 'images'\n",
    "train_ann_dir = train_dir + 'annotations'\n",
    "cas = COCO_Assistant(train_img_dir, train_ann_dir)\n",
    "cas.merge()"
   ]
  },
  {
   "cell_type": "code",
   "execution_count": 131,
   "id": "d74c85be-06f0-432c-8033-5fec6db3d418",
   "metadata": {},
   "outputs": [
    {
     "data": {
      "text/plain": [
       "'/home/beomgon/dataset/total/train/images'"
      ]
     },
     "execution_count": 131,
     "metadata": {},
     "output_type": "execute_result"
    }
   ],
   "source": [
    "train_img_dir"
   ]
  },
  {
   "cell_type": "code",
   "execution_count": 132,
   "id": "946de525-522f-4e5c-948a-265df0d2ce6d",
   "metadata": {},
   "outputs": [
    {
     "data": {
      "text/plain": [
       "'/home/beomgon/dataset/total/train/annotations'"
      ]
     },
     "execution_count": 132,
     "metadata": {},
     "output_type": "execute_result"
    }
   ],
   "source": [
    "train_ann_dir"
   ]
  },
  {
   "cell_type": "code",
   "execution_count": 11,
   "id": "972217b6-25e4-436b-aabe-a5c80ca69235",
   "metadata": {},
   "outputs": [
    {
     "name": "stdout",
     "output_type": "stream",
     "text": [
      "loading annotations into memory...\n",
      "Done (t=0.01s)\n",
      "creating index...\n",
      "index created!\n",
      "loading annotations into memory...\n",
      "Done (t=0.04s)\n",
      "creating index...\n",
      "index created!\n",
      "loading annotations into memory...\n",
      "Done (t=0.00s)\n",
      "creating index...\n",
      "index created!\n",
      "Merging image dirs\n"
     ]
    },
    {
     "name": "stderr",
     "output_type": "stream",
     "text": [
      "100%|██████████████████████████████████████████████████████████████████| 3/3 [00:02<00:00,  1.04it/s]\n"
     ]
    },
    {
     "name": "stdout",
     "output_type": "stream",
     "text": [
      "Merging annotations\n"
     ]
    },
    {
     "name": "stderr",
     "output_type": "stream",
     "text": [
      "100%|██████████████████████████████████████████████████████████████████| 3/3 [00:00<00:00, 83.45it/s]\n"
     ]
    }
   ],
   "source": [
    "# merge test data\n",
    "val_dir = '/home/beomgon/dataset/total/val/'\n",
    "val_img_dir = val_dir + 'images'\n",
    "val_ann_dir = val_dir + 'annotations'\n",
    "cas = COCO_Assistant(val_img_dir, val_ann_dir)\n",
    "cas.merge()"
   ]
  },
  {
   "cell_type": "code",
   "execution_count": null,
   "id": "f0bde515-ad04-4f3a-a68b-10fb6f6c2008",
   "metadata": {},
   "outputs": [],
   "source": []
  }
 ],
 "metadata": {
  "kernelspec": {
   "display_name": "pytorch",
   "language": "python",
   "name": "pytorch"
  },
  "language_info": {
   "codemirror_mode": {
    "name": "ipython",
    "version": 3
   },
   "file_extension": ".py",
   "mimetype": "text/x-python",
   "name": "python",
   "nbconvert_exporter": "python",
   "pygments_lexer": "ipython3",
   "version": "3.8.13"
  }
 },
 "nbformat": 4,
 "nbformat_minor": 5
}
